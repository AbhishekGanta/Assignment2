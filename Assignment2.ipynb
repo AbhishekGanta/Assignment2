{
 "cells": [
  {
   "cell_type": "markdown",
   "metadata": {},
   "source": [
    "1.1 Write a Python Program to implement your own myreduce() function which works exactly like Python's built-in function reduce()"
   ]
  },
  {
   "cell_type": "code",
   "execution_count": 1,
   "metadata": {},
   "outputs": [
    {
     "name": "stdout",
     "output_type": "stream",
     "text": [
      "68\n"
     ]
    }
   ],
   "source": [
    "s= [1,2,3,12,50]\n",
    "def myreduce(s):\n",
    "    j=0\n",
    "    for i in s:\n",
    "        j=j+i\n",
    "    return j\n",
    "\n",
    "k=myreduce(s)\n",
    "print(k)"
   ]
  },
  {
   "cell_type": "markdown",
   "metadata": {},
   "source": [
    "Write a Python program to implement your own myfilter() function which works exactly like Python's built-in function filter() "
   ]
  },
  {
   "cell_type": "code",
   "execution_count": 2,
   "metadata": {},
   "outputs": [
    {
     "name": "stdout",
     "output_type": "stream",
     "text": [
      "[2, 12, 50]\n"
     ]
    }
   ],
   "source": [
    "s= [1,2,3,12,50]\n",
    "def myfilter(s):\n",
    "    j=[]\n",
    "    for i in range(0,len(s)):\n",
    "        if s[i]%2==0:\n",
    "            j.append(s[i])\n",
    "    return j\n",
    "\n",
    "l = myfilter(s)\n",
    "print(l)"
   ]
  },
  {
   "cell_type": "markdown",
   "metadata": {},
   "source": [
    "Implement a function longestWord() that takes a list of words and returns the longest one"
   ]
  },
  {
   "cell_type": "code",
   "execution_count": 4,
   "metadata": {},
   "outputs": [
    {
     "name": "stdout",
     "output_type": "stream",
     "text": [
      "Longest String in list is  longest\n"
     ]
    }
   ],
   "source": [
    "list_words = [\"Hi\",\",\", \"please\", \"may\",\"i\",\"know\",\"the\",\"longest\",\"word\"]\n",
    "\n",
    "def longestWord(words):\n",
    "    s = [(len(word),word) for word in list_words]\n",
    "    s.sort()\n",
    "    print('Longest String in list is ',s[-1][1])\n",
    "\n",
    "longestWord(list_words)"
   ]
  },
  {
   "cell_type": "markdown",
   "metadata": {},
   "source": [
    "Write List comprehensions to produce the following Lists"
   ]
  },
  {
   "cell_type": "code",
   "execution_count": 1,
   "metadata": {},
   "outputs": [
    {
     "name": "stdout",
     "output_type": "stream",
     "text": [
      "['A', 'C', 'A', 'D', 'G', 'I', 'L', 'D']\n",
      "['x', 'xx', 'xxx', 'xxxx', 'y', 'yy', 'yyy', 'yyyy', 'z', 'zz', 'zzz', 'zzzz']\n",
      "['x', 'y', 'z', 'xx', 'yy', 'zz', 'xxx', 'yyy', 'zzz', 'xxxx', 'yyyy', 'zzzz']\n",
      "[[2], [3], [4], [3], [4], [5], [4], [5], [6]]\n",
      "[[2, 3, 4, 5], [3, 4, 5, 6], [4, 5, 6, 7], [5, 6, 7, 8]]\n",
      "[(1, 1), (2, 1), (3, 1), (1, 2), (2, 2), (3, 2), (1, 3), (2, 3), (3, 3)]\n"
     ]
    }
   ],
   "source": [
    "simple_list=['A', 'C', 'A', 'D', 'G', 'I', 'L', 'D']\n",
    "input_list = ['x','y','z']\n",
    "simpleresult=[test for test in simple_list]\n",
    "result = [item*num for item in input_list for num in range(1,5)]\n",
    "result1 = [a*nu for a in range(1,5) for nu in input_list]\n",
    "result2 = [[a+nu] for a in range(1,4) for nu in range(1,4)]\n",
    "result3 = [[a+nu for a in range(1,5)] for nu in range(1,5)]\n",
    "result4 = [(nu,a) for a in range(1,4) for nu in range(1,4)]\n",
    "print(simpleresult)\n",
    "print(result)\n",
    "print(result1)\n",
    "print(result2)\n",
    "print(result3)\n",
    "print(result4)"
   ]
  },
  {
   "cell_type": "markdown",
   "metadata": {},
   "source": [
    "Write a Python Program(with class concepts) to find the area of the triangle using the below formula. \n",
    " \n",
    "area = (s*(s-a)*(s-b)*(s-c)) ** 0.5 \n",
    " \n",
    "Function to take the length of the sides of triangle from user should be defined in the parent class and function to calculate the area should be defined in subclass"
   ]
  },
  {
   "cell_type": "code",
   "execution_count": 1,
   "metadata": {},
   "outputs": [
    {
     "name": "stdout",
     "output_type": "stream",
     "text": [
      "Please enter side a: 4\n",
      "Please enter side b: 5\n",
      "Please enter side c: 6\n",
      "The Area of the triangle is : 9.921567416492215\n"
     ]
    }
   ],
   "source": [
    "class sidesoftriangle:\n",
    "    def __init__(self):\n",
    "        self.a=input(\"Please enter side a: \")\n",
    "        self.b = input(\"Please enter side b: \")\n",
    "        self.c = input(\"Please enter side c: \")\n",
    "\n",
    "    def semiparameter(self):\n",
    "        self.s=(int(self.a) +int(self.b)+int(self.c))/2\n",
    "        return self.s\n",
    "\n",
    "class AreaofTriangle(sidesoftriangle):\n",
    "    def __init__(self):\n",
    "        super().__init__()\n",
    "\n",
    "    def Area(self,x):\n",
    "        a=float(self.a)\n",
    "        b=float(self.b)\n",
    "        c=float(self.c)\n",
    "        area = (x * (x - a) * (x - b) * (x - c)) ** 0.5\n",
    "        print(\"The Area of the triangle is :\", area)\n",
    "\n",
    "A1=AreaofTriangle()\n",
    "x=A1.semiparameter()\n",
    "A1.Area(x)"
   ]
  },
  {
   "cell_type": "markdown",
   "metadata": {},
   "source": [
    "Write a function filter_long_words() that takes a list of words and an integer n and returns the list of words that are longer than n"
   ]
  },
  {
   "cell_type": "code",
   "execution_count": 2,
   "metadata": {},
   "outputs": [
    {
     "name": "stdout",
     "output_type": "stream",
     "text": [
      "Please enter the names:abhi,preethika,amar,pradyumna\n",
      "please enter the value:4\n",
      "['preethika', 'pradyumna']\n"
     ]
    }
   ],
   "source": [
    "class LongWords:\n",
    "\n",
    "    def __init__(self):\n",
    "        self.words=input(\"Please enter the names:\")\n",
    "        self.value=input(\"please enter the value:\")\n",
    "\n",
    "    def filter_long_words(self):\n",
    "        lst=[]\n",
    "        arr=[]\n",
    "        a=''\n",
    "        for j in self.words:\n",
    "\n",
    "            if j != ',':\n",
    "                a=a+j\n",
    "            else:\n",
    "                arr.append(a)\n",
    "                a=''\n",
    "        else:\n",
    "            arr.append(a)\n",
    "\n",
    "        for i in range(0, len(arr)):\n",
    "            if len(arr[i]) > int(self.value):\n",
    "                lst.append(arr[i])\n",
    "        print(lst)\n",
    "\n",
    "L1=LongWords()\n",
    "L1.filter_long_words()"
   ]
  },
  {
   "cell_type": "markdown",
   "metadata": {},
   "source": [
    "Write a Python program using function concept that maps  list of words into a list of integers representing the lengths of the corresponding words​. "
   ]
  },
  {
   "cell_type": "code",
   "execution_count": 3,
   "metadata": {},
   "outputs": [
    {
     "name": "stdout",
     "output_type": "stream",
     "text": [
      "Please enter the names:ab,cde,erty\n",
      "[2, 3, 4]\n"
     ]
    }
   ],
   "source": [
    "class LongWords:\n",
    "\n",
    "    def __init__(self):\n",
    "        self.words=input(\"Please enter the names:\")\n",
    "\n",
    "    def length_of_words(self):\n",
    "        lst=[]\n",
    "        arr=[]\n",
    "        a=''\n",
    "        for j in self.words:\n",
    "\n",
    "            if j != ',':\n",
    "                a=a+j\n",
    "            else:\n",
    "                arr.append(a)\n",
    "                a=''\n",
    "        else:\n",
    "            arr.append(a)\n",
    "\n",
    "        for i in range(0, len(arr)):\n",
    "            lst.append(len(arr[i]))\n",
    "        print(lst)\n",
    "\n",
    "L1=LongWords()\n",
    "L1.length_of_words()"
   ]
  },
  {
   "cell_type": "markdown",
   "metadata": {},
   "source": [
    "Write a Python function which takes a character (i.e. a string of length 1) and returns True if it is a vowel, False otherwise."
   ]
  },
  {
   "cell_type": "code",
   "execution_count": 4,
   "metadata": {},
   "outputs": [
    {
     "name": "stdout",
     "output_type": "stream",
     "text": [
      "Enter Your Character: a\n",
      "True\n"
     ]
    }
   ],
   "source": [
    "import re\n",
    "\n",
    "class VowelMatch:\n",
    "    def __init__(self):\n",
    "       self.vow=input('Enter Your Character: ')\n",
    "\n",
    "    def match(self):\n",
    "        raw_list = [\"A\", \"E\", \"I\", \"O\", \"U\"]\n",
    "        reg_list = map(re.compile, raw_list)\n",
    "        if any(regex.match(self.vow.upper()) for regex in reg_list):\n",
    "            print(\"True\")\n",
    "        else:\n",
    "            print(\"False\")\n",
    "\n",
    "Check = VowelMatch()\n",
    "Check.match()"
   ]
  },
  {
   "cell_type": "code",
   "execution_count": null,
   "metadata": {},
   "outputs": [],
   "source": []
  }
 ],
 "metadata": {
  "kernelspec": {
   "display_name": "Python 3",
   "language": "python",
   "name": "python3"
  },
  "language_info": {
   "codemirror_mode": {
    "name": "ipython",
    "version": 3
   },
   "file_extension": ".py",
   "mimetype": "text/x-python",
   "name": "python",
   "nbconvert_exporter": "python",
   "pygments_lexer": "ipython3",
   "version": "3.7.4"
  }
 },
 "nbformat": 4,
 "nbformat_minor": 2
}
